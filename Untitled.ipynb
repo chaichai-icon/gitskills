{
 "cells": [
  {
   "cell_type": "markdown",
   "metadata": {},
   "source": [
    "# the builder of things"
   ]
  },
  {
   "cell_type": "markdown",
   "metadata": {},
   "source": [
    "## metaclass "
   ]
  },
  {
   "cell_type": "markdown",
   "metadata": {},
   "source": [
    " ### 作用\n",
    "1. 你可以自由的、动态的修改/增加/删除 类的或者实例中的方法或者属性\n",
    "\n",
    "2. 批量的对某些方法使用decorator，而不需要每次都在方法的上面加入@decorator_func\n",
    "\n",
    "3. 当引入第三方库的时候，如果该库某些类需要patch的时候可以用metaclass\n",
    "\n",
    "4. 可以用于序列化(参见yaml这个库的实现，我没怎么仔细看）\n",
    "\n",
    "5. 提供接口注册，接口格式检查等\n",
    "\n",
    "6. 自动委托(auto delegate)\n",
    "\n",
    "7. more..."
   ]
  },
  {
   "cell_type": "markdown",
   "metadata": {},
   "source": [
    "metaclass的实例化结果是类，而class实例化的结果是instance\n",
    "而在Python中, 如果你要用类来实现metaclass的话，该类需要继承于type\n",
    "当然，愿意的话，还可以搞出metametaclass、metametametaclass...\n",
    "但type类依然是辈分最高的那个类，不过这也仅限于python 2.2之后，在这个版本之前type类也还没出生\n",
    "type -> metaclass -> class -> instance\n",
    "metaclass的原理其实是这样的：当定义好类之后，创建类的时候其实是调用了type的__new__方法为这个类分配内存空间，创建好了之后再调用type的__init__方法初始化（做一些赋值等）。所以metaclass的所有magic其实就在于这个__new__方法里面了。\n",
    "说说这个方法：__new__(cls, name, bases, attrs)\n",
    "- cls: 将要创建的类，类似与self，但是self指向的是instance，而这里cls指向的是class\n",
    "- name: 类的名字，也就是我们通常用类名.__name__获取的。\n",
    "- bases: 基类\n",
    "- attrs: 属性的dict。dict的内容可以是变量(类属性），也可以是函数（类方法）。\n",
    " 所以在创建类的过程，我们可以在这个函数里面修改name，bases，attrs的值来自由的达到我们的功能。这里常用的配合方法是getattr和setattr（just an advice)\n",
    "__init__和__new__中进行修改，我的理解是两者都可以，但在__new__中修改会比在__init__更有效，只是平常大部分人都只用到了__init__，而且用__init__也可以达到目标。\n",
    "\n"
   ]
  },
  {
   "cell_type": "markdown",
   "metadata": {},
   "source": [
    "这个问题的关键是给现有对象添加新的属性，而属性的名字是不确定的，这时候一般要用到__dict__和重写__getattr__方法。"
   ]
  },
  {
   "cell_type": "code",
   "execution_count": null,
   "metadata": {},
   "outputs": [],
   "source": []
  }
 ],
 "metadata": {
  "kernelspec": {
   "display_name": "Python 3",
   "language": "python",
   "name": "python3"
  }
 },
 "nbformat": 4,
 "nbformat_minor": 2
}
